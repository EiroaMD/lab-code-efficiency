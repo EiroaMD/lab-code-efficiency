{
 "cells": [
  {
   "cell_type": "markdown",
   "metadata": {},
   "source": [
    "# Challenge 2"
   ]
  },
  {
   "cell_type": "markdown",
   "metadata": {},
   "source": [
    "The code below generates a given number of random strings that consists of numbers and \n",
    "lower case English letters. You can also define the range of the variable lengths of\n",
    "the strings being generated.\n",
    "\n",
    "The code is functional but has a lot of room for improvement. Use what you have learned\n",
    "about simple and efficient code, refactor the code."
   ]
  },
  {
   "cell_type": "code",
   "execution_count": 1,
   "metadata": {},
   "outputs": [],
   "source": [
    "# 'a' is now shorter using a list comprehension that gets alphanumeric ASCII characters\n",
    "# Deleted optional/default parameters\n",
    "# Changed name of the function according to snake case\n",
    "def random_string_generator(l):\n",
    "    p = 0\n",
    "    s = ''\n",
    "    while p<l:\n",
    "        import random\n",
    "        s += random.choice([chr(i) for i in range(48,123) if chr(i).isalnum()])\n",
    "        p += 1\n",
    "    return s"
   ]
  },
  {
   "cell_type": "code",
   "execution_count": 2,
   "metadata": {},
   "outputs": [],
   "source": [
    "# Changed a and b to min(mn) and max(mx)\n",
    "# Changed c to l in order to correspond to the argument used in random_string_generator\n",
    "# Changed name of the function according to snake case\n",
    "def batch_string_generator(n, mn, mx):\n",
    "    r = []\n",
    "    for i in range(n):\n",
    "        l = None\n",
    "        if mn < mx:\n",
    "            import random\n",
    "            l = random.choice(range(mn, mx+1)) # Added a +1 to max range to make it correspond to the user's choice\n",
    "        elif mn == mx:\n",
    "            l = mn\n",
    "        else:\n",
    "            import sys\n",
    "            sys.exit('Incorrect min and max string lengths. Try again.')\n",
    "        r.append(random_string_generator(l))\n",
    "    return r"
   ]
  },
  {
   "cell_type": "code",
   "execution_count": 3,
   "metadata": {},
   "outputs": [
    {
     "name": "stdout",
     "output_type": "stream",
     "text": [
      "Enter minimum string length: 4\n",
      "Enter maximum string length: 7\n",
      "How many random strings to generate? 5\n",
      "['nU80W', '1SWpY', 'AsHLw', 'kM3HyPI', 'BrdJrT']\n"
     ]
    }
   ],
   "source": [
    "mn = input('Enter minimum string length: ')\n",
    "mx = input('Enter maximum string length: ')\n",
    "n = input('How many random strings to generate? ')\n",
    "\n",
    "print(batch_string_generator(int(n), int(mn), int(mx)))"
   ]
  }
 ],
 "metadata": {
  "kernelspec": {
   "display_name": "Python 3",
   "language": "python",
   "name": "python3"
  },
  "language_info": {
   "codemirror_mode": {
    "name": "ipython",
    "version": 3
   },
   "file_extension": ".py",
   "mimetype": "text/x-python",
   "name": "python",
   "nbconvert_exporter": "python",
   "pygments_lexer": "ipython3",
   "version": "3.6.8"
  }
 },
 "nbformat": 4,
 "nbformat_minor": 2
}
